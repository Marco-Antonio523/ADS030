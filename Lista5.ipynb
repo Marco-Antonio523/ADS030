{
  "nbformat": 4,
  "nbformat_minor": 0,
  "metadata": {
    "colab": {
      "name": "Lista5.ipynb",
      "provenance": [],
      "collapsed_sections": [],
      "authorship_tag": "ABX9TyPPUsQCEKuUkt/n80jVpRA0",
      "include_colab_link": true
    },
    "kernelspec": {
      "name": "python3",
      "display_name": "Python 3"
    }
  },
  "cells": [
    {
      "cell_type": "markdown",
      "metadata": {
        "id": "view-in-github",
        "colab_type": "text"
      },
      "source": [
        "<a href=\"https://colab.research.google.com/github/Marco-Antonio523/ADS030/blob/master/Lista5.ipynb\" target=\"_parent\"><img src=\"https://colab.research.google.com/assets/colab-badge.svg\" alt=\"Open In Colab\"/></a>"
      ]
    },
    {
      "cell_type": "code",
      "metadata": {
        "colab": {
          "base_uri": "https://localhost:8080/",
          "height": 52
        },
        "id": "2l3vGFJDtOuz",
        "outputId": "07404aa7-1615-4f8e-9b7a-d6b60c61aa3a"
      },
      "source": [
        "# Disciplina: Probabilidade e Estatística\n",
        "# Aluno: Marco Antônio Gonçalves Lopes\n",
        "# Lista 5\n",
        "\n",
        "import statistics\n",
        "import math\n",
        "# Exercício 01\n",
        "#a\n",
        "'''statistics.mean([10, 13, 17, 9, 8, 11, 13, 7])'''\n",
        "#b\n",
        "'''statistics.harmonic_mean([10, 13, 17, 9, 8, 11, 13, 7])'''\n",
        "#c\n",
        "'''statistics.geometric_mean([10, 13, 17, 9, 8, 11, 13, 7])'''\n",
        "#d\n",
        "'''statistics.mode([10, 13, 17, 9, 8, 11, 13, 7])'''\n",
        "#e\n",
        "'''statistics.pvariance([10, 13, 17, 9, 8, 11, 13, 7])'''\n",
        "#f \n",
        "'''statistics.stdev([10, 13, 17, 9, 8, 11, 13, 7])'''\n",
        "\n",
        "# Exercício 02\n",
        "'''x = (67, 75, 63, 72, 77, 78, 81, 77, 80)'''\n",
        "# A\n",
        "'''statistics.mean(x)'''\n",
        "'''statistics.harmonic_mean(x)'''\n",
        "'''statistics.geometric_mean(x)'''\n",
        "# B\n",
        "'''statistics.mode(x)'''\n",
        "# C\n",
        "'''statistics.pvariance(x)'''\n",
        "# D\n",
        "'''statistics.stdev(x)'''\n",
        "\n",
        "# Exercício 03\n",
        "'''x = (4.0, 4.5, 5.0, 5.0, 5.0, 5.5, 6.0, 6.0, 6.5, 6.5, 6.5, \n",
        "     6.5, 7.0, 7.0, 7.0, 7.0, 7.0, 7.0, 7.5, 8.5, 9.0, 9.0,\n",
        "     9.0, 9.5, 10.0, 10.0, 10.5, 11.0, 12.0, 12.5, 13.0, 13.0)\n",
        "\n",
        "s = statistics.stdev(x)\n",
        "c = 100 * (s / x)\n",
        "\n",
        "print(c)'''\n",
        "\n",
        "# Exercício 04\n",
        "'''x = (12, 15, 18, 22, 17, 14, 18, 23, 29, 12)'''\n",
        "#A\n",
        "'''statistics.mean(x)'''\n",
        "#B\n",
        "'''statistics.median(x)'''\n",
        "#C\n",
        "'''statistics.stdev(x)'''\n",
        "\n",
        "# Exercício 05\n",
        "\n",
        "# Exercício 06\n",
        "'''x = float(input(\"digite o valor da nota: \"))\n",
        "h = float(input(\"digite o valor da nota: \"))\n",
        "z = float(input(\"digite o valor da nota: \"))\n",
        "\n",
        "a = (3 * x) + (4 * h) + (3 * z)\n",
        "b = a / 10\n",
        "\n",
        "print(\"%.2f\" %b)'''"
      ],
      "execution_count": null,
      "outputs": [
        {
          "output_type": "execute_result",
          "data": {
            "application/vnd.google.colaboratory.intrinsic+json": {
              "type": "string"
            },
            "text/plain": [
              "'x = float(input(\"digite o valor da nota: \"))\\nh = float(input(\"digite o valor da nota: \"))\\nz = float(input(\"digite o valor da nota: \"))\\n\\na = (3 * x) + (4 * h) + (3 * z)\\nb = a / 10\\n\\nprint(\"%.2f\" %b)'"
            ]
          },
          "metadata": {
            "tags": []
          },
          "execution_count": 72
        }
      ]
    }
  ]
}