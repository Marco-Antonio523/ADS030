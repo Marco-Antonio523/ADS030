{
  "nbformat": 4,
  "nbformat_minor": 0,
  "metadata": {
    "colab": {
      "name": "lista04.ipynb",
      "provenance": [],
      "collapsed_sections": [],
      "authorship_tag": "ABX9TyPfWz3+m6nUGt7HExfKgo2H",
      "include_colab_link": true
    },
    "kernelspec": {
      "name": "python3",
      "display_name": "Python 3"
    }
  },
  "cells": [
    {
      "cell_type": "markdown",
      "metadata": {
        "id": "view-in-github",
        "colab_type": "text"
      },
      "source": [
        "<a href=\"https://colab.research.google.com/github/Marco-Antonio523/ADS030/blob/master/lista04.ipynb\" target=\"_parent\"><img src=\"https://colab.research.google.com/assets/colab-badge.svg\" alt=\"Open In Colab\"/></a>"
      ]
    },
    {
      "cell_type": "code",
      "metadata": {
        "id": "ix1d7Dw-IdEJ",
        "outputId": "511dfec8-45a3-49bc-c182-0edab0b9a83c",
        "colab": {
          "base_uri": "https://localhost:8080/"
        }
      },
      "source": [
        "'''# Exercício 01\n",
        "lados = int(input(\"digite a quntidade de lados: \"))\n",
        "lado = float(input(\"digite a medida do lado: \"))\n",
        "\n",
        "if lados == 3:\n",
        "  area = lado ** 2 * 3 ** (1/2) / 4\n",
        "  print(\"A área é: %.2fcm\"%area)\n",
        "elif lados == 4:\n",
        "  area = lado ** 2\n",
        "  print(\"A área é: %.2fcm\"%area)\n",
        "elif lados == 5:\n",
        "  print(\"A figura é um pentágono.\")'''\n",
        "\n",
        "'''# Exercícicio 02\n",
        "lados = int(input(\"digite a quntidade de lados: \"))\n",
        "lado = float(input(\"digite a medida do lado: \"))\n",
        "\n",
        "if lados == 3:\n",
        "  area = lado ** 2 * 3 ** (1/2) / 4\n",
        "  print(\"A área é: %.2fcm\"%area)\n",
        "elif lados == 4:\n",
        "  area = lado ** 2\n",
        "  print(\"A área é: %.2fcm\"%area)\n",
        "elif lados == 5:\n",
        "  print(\"A figura é um pentágono.\")\n",
        "elif lados < 3:\n",
        "  print (\"NÃO É UM POLÍGONO.\")\n",
        "elif lados > 5:\n",
        "  print (\"POLÍGONO NÃO IDENTIFICADO\")'''\n",
        "\n",
        "'''# Exercício 03\n",
        "x = int(input(\"digite o primeiro valor: \"))\n",
        "y = int(input(\"digite o segundo valor: \"))\n",
        "z = int(input(\"digite o terceiro valor: \"))\n",
        "\n",
        "if x > y & x > z:\n",
        "  print(\"O maior valor é: %i\"%x)\n",
        "elif y > x & y > z:\n",
        "  print(\"O maior valor é: %i\"%y)\n",
        "elif z > x & z > y:\n",
        "  print(\"O maior valor é: %i\"%z)'''\n",
        "\n",
        "'''# Exercício 04\n",
        "x = int(input(\"digite valor do primeiro lado: \"))\n",
        "y = int(input(\"digite valor do segundo lado: \"))\n",
        "z = int(input(\"digite valor do terceiro lado: \"))\n",
        "\n",
        "if (x == y) and (x == z):\n",
        "  print(\"É um triângulo equilatero\")\n",
        "elif (x == y) or (x == z) or (y == z):\n",
        "  print(\"É um triângulo isósceles\")\n",
        "else:\n",
        "  print(\"É um triângulo escaleno\")'''\n",
        "\n",
        "'''# Exercício 05\n",
        "x = int(input(\"digite valor do primeiro ângulo: \"))\n",
        "y = int(input(\"digite valor do segundo ângulo: \"))\n",
        "z = int(input(\"digite valor do terceiro ângulo: \"))\n",
        "\n",
        "if (x == 90) or (y == 90) or (z == 90):\n",
        "  print (\"É um triângulo retângulo\")\n",
        "elif (x < 90) and (y < 90) and (z < 90):\n",
        "  print(\"É um triângulo agudo\")\n",
        "else:\n",
        "  print(\"É um triângulo obtuso\")'''\n",
        "\n",
        "'''# Exercício 06\n",
        "x = int(input(\"Digite um valor: \"))\n",
        "\n",
        "z = 0\n",
        "\n",
        "while z <= x:\n",
        "  print(\"%i\"%z)\n",
        "  z = z + 1'''\n",
        "\n",
        "'''# Exercício 07\n",
        "x = int(input(\"Digite um valor: \"))\n",
        "\n",
        "while (x < 1) or (x > 4):\n",
        "  print(\"Entrada inválida, digite o valor novamente\")\n",
        "  x = int(input(\"Digite um valor: \"))\n",
        "\n",
        "while (x >= 1) or (x <= 4):\n",
        "   print(\"Entrada válida, o valor é: %i\"%x)\n",
        "   break'''\n",
        "\n",
        "'''# Exercício 08\n",
        "x = int(input(\"Digite um valor: \"))\n",
        "\n",
        "while x != 0:\n",
        "  x = int(input(\"Digite um valor: \"))'''\n",
        "\n",
        "'''# Exercício 09\n",
        "numero = int(input('Digite um valor de 4 digitos: '))\n",
        "unidade = numero % 10\n",
        "numero = (numero - unidade)/10\n",
        "dezena = numero % 10\n",
        "numero = (numero - dezena)/10\n",
        "centena = numero % 10\n",
        "numero = (numero - centena)/10\n",
        "milhar = numero\n",
        "dezena = int(dezena)\n",
        "centena = int(centena)\n",
        "milhar = int(milhar)\n",
        "print(milhar,\"milhar(es),\",centena,\"centena(s),\",dezena,\"dezena(s) e\",unidade,\"unidade(s)\")'''\n"
      ],
      "execution_count": null,
      "outputs": [
        {
          "output_type": "stream",
          "text": [
            "Digite um valor de 4 digitos: 1234\n",
            "1 milhar(es), 2 centena(s), 3 dezena(s) e 4 unidade(s)\n"
          ],
          "name": "stdout"
        }
      ]
    }
  ]
}